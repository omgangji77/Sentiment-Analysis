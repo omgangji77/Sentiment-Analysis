{
  "metadata": {
    "kernelspec": {
      "language": "python",
      "display_name": "Python 3",
      "name": "python3"
    },
    "language_info": {
      "pygments_lexer": "ipython3",
      "nbconvert_exporter": "python",
      "version": "3.6.4",
      "file_extension": ".py",
      "codemirror_mode": {
        "name": "ipython",
        "version": 3
      },
      "name": "python",
      "mimetype": "text/x-python"
    },
    "colab": {
      "provenance": []
    }
  },
  "nbformat_minor": 0,
  "nbformat": 4,
  "cells": [
    {
      "cell_type": "code",
      "source": [
        "from google.colab import drive\n",
        "drive.mount('/content/drive')"
      ],
      "metadata": {
        "colab": {
          "base_uri": "https://localhost:8080/"
        },
        "id": "1t13fTkd8CrI",
        "outputId": "32d2c46b-2fed-4e7f-b527-f320a08b3632"
      },
      "execution_count": null,
      "outputs": [
        {
          "output_type": "stream",
          "name": "stdout",
          "text": [
            "Mounted at /content/drive\n"
          ]
        }
      ]
    },
    {
      "source": [
        "import os\n",
        "import shutil\n",
        "\n",
        "DATA_SOURCE_MAPPING = '/content/drive/MyDrive/MBFS/MBINDIA_profile_scraping.xlsx'\n",
        "YOUR_INPUT_PATH = '/content/dataset'\n",
        "\n",
        "os.makedirs(YOUR_INPUT_PATH, exist_ok=True)\n",
        "\n",
        "try:\n",
        "    shutil.copy(DATA_SOURCE_MAPPING, YOUR_INPUT_PATH)\n",
        "    print(f\"Dataset '{os.path.basename(DATA_SOURCE_MAPPING)}' copied to '{YOUR_INPUT_PATH}'.\")\n",
        "except Exception as e:\n",
        "    print(f\"Failed to copy dataset: {e}\")\n",
        "\n"
      ],
      "metadata": {
        "id": "MMlweeSj5kVT",
        "outputId": "924d8f70-6a5d-42f9-e88f-870a433b4dca",
        "colab": {
          "base_uri": "https://localhost:8080/"
        }
      },
      "cell_type": "code",
      "outputs": [
        {
          "output_type": "stream",
          "name": "stdout",
          "text": [
            "Dataset 'MBINDIA_profile_scraping.xlsx' copied to '/content/dataset'.\n"
          ]
        }
      ],
      "execution_count": null
    },
    {
      "cell_type": "code",
      "source": [
        "from google.colab import drive\n",
        "\n",
        "dataset_path = '/content/drive/MyDrive/MBFS/MBINDIA_profile_scraping.xlsx'\n",
        "\n",
        "import os\n",
        "for dirname, _, filenames in os.walk(dataset_path):\n",
        "    for filename in filenames:\n",
        "        print(os.path.join(dirname, filename))\n"
      ],
      "metadata": {
        "_uuid": "8f2839f25d086af736a60e9eeb907d3b93b6e0e5",
        "_cell_guid": "b1076dfc-b9ad-4769-8c92-a6c4dae69d19",
        "execution": {
          "iopub.status.busy": "2023-09-18T10:13:35.859557Z",
          "iopub.execute_input": "2023-09-18T10:13:35.860041Z",
          "iopub.status.idle": "2023-09-18T10:13:35.869565Z",
          "shell.execute_reply.started": "2023-09-18T10:13:35.860009Z",
          "shell.execute_reply": "2023-09-18T10:13:35.868085Z"
        },
        "trusted": true,
        "id": "mGZIVhgV5kVX"
      },
      "execution_count": null,
      "outputs": []
    },
    {
      "cell_type": "code",
      "source": [
        "\n",
        "import pandas as pd\n",
        "import seaborn as sns\n",
        "import matplotlib.pyplot as plt\n",
        "\n",
        "import nltk\n",
        "from nltk.tokenize import word_tokenize\n",
        "from nltk.corpus import stopwords\n",
        "nltk.download('punkt')\n",
        "nltk.download('stopwords')\n",
        "nltk.download('vader_lexicon')\n",
        "\n",
        "from nltk.sentiment.vader import SentimentIntensityAnalyzer"
      ],
      "metadata": {
        "execution": {
          "iopub.status.busy": "2023-09-18T10:13:39.821023Z",
          "iopub.execute_input": "2023-09-18T10:13:39.821521Z",
          "iopub.status.idle": "2023-09-18T10:13:39.830802Z",
          "shell.execute_reply.started": "2023-09-18T10:13:39.821455Z",
          "shell.execute_reply": "2023-09-18T10:13:39.829335Z"
        },
        "trusted": true,
        "id": "tF1pRlTp5kVY",
        "outputId": "d1ba9400-3794-4f44-975c-ce53bb9ef291",
        "colab": {
          "base_uri": "https://localhost:8080/"
        }
      },
      "execution_count": null,
      "outputs": [
        {
          "output_type": "stream",
          "name": "stderr",
          "text": [
            "[nltk_data] Downloading package punkt to /root/nltk_data...\n",
            "[nltk_data]   Unzipping tokenizers/punkt.zip.\n",
            "[nltk_data] Downloading package stopwords to /root/nltk_data...\n",
            "[nltk_data]   Unzipping corpora/stopwords.zip.\n",
            "[nltk_data] Downloading package vader_lexicon to /root/nltk_data...\n"
          ]
        }
      ]
    },
    {
      "cell_type": "code",
      "source": [
        "import pandas as pd\n",
        "\n",
        "data = pd.read_excel('/content/drive/MyDrive/MBFS/MBINDIA_profile_scraping.xlsx')\n",
        "\n"
      ],
      "metadata": {
        "execution": {
          "iopub.status.busy": "2023-09-18T10:13:42.797414Z",
          "iopub.execute_input": "2023-09-18T10:13:42.797902Z",
          "iopub.status.idle": "2023-09-18T10:13:42.822351Z",
          "shell.execute_reply.started": "2023-09-18T10:13:42.797865Z",
          "shell.execute_reply": "2023-09-18T10:13:42.821389Z"
        },
        "trusted": true,
        "id": "U2AeJePG5kVY"
      },
      "execution_count": null,
      "outputs": []
    },
    {
      "cell_type": "markdown",
      "source": [
        "### Data pre processing"
      ],
      "metadata": {
        "id": "R6nXrfCB5kVZ"
      }
    },
    {
      "cell_type": "code",
      "source": [
        "\n",
        "#data['comments'] = data['comments'].replace('NA', '')\n"
      ],
      "metadata": {
        "id": "vtiCd5O15kVa"
      },
      "execution_count": null,
      "outputs": []
    },
    {
      "cell_type": "code",
      "source": [
        "\n",
        "data = data[data['latestComments/0/text'].notna() & (data['latestComments/0/text'] != 'NA')]\n",
        "\n",
        "\n",
        "stop_words = set(stopwords.words('english'))\n",
        "\n",
        "def preprocess_comments(text):\n",
        "    try:\n",
        "        words = word_tokenize(text)\n",
        "        filtered_words = [word.lower() for word in words if word.lower() not in stop_words]\n",
        "        return ' '.join(filtered_words)\n",
        "    except:\n",
        "        return ''\n",
        "\n",
        "data['latestComments/0/text'] = data['latestComments/0/text'].apply(preprocess_comments)"
      ],
      "metadata": {
        "execution": {
          "iopub.status.busy": "2023-09-18T10:13:47.400812Z",
          "iopub.execute_input": "2023-09-18T10:13:47.401691Z",
          "iopub.status.idle": "2023-09-18T10:13:47.571965Z",
          "shell.execute_reply.started": "2023-09-18T10:13:47.401642Z",
          "shell.execute_reply": "2023-09-18T10:13:47.569584Z"
        },
        "trusted": true,
        "id": "2-MW2YpV5kVa"
      },
      "execution_count": null,
      "outputs": []
    },
    {
      "cell_type": "markdown",
      "source": [
        "### Sentiment Analysis"
      ],
      "metadata": {
        "id": "r0PGGBMS5kVb"
      }
    },
    {
      "cell_type": "code",
      "source": [
        "analyzer = SentimentIntensityAnalyzer()\n",
        "\n",
        "data['Sentiment'] = data['latestComments/0/text'].apply(lambda x: analyzer.polarity_scores(x))\n",
        "\n",
        "data['Sentiment'] = data['Sentiment'].apply(lambda x: x['compound'])"
      ],
      "metadata": {
        "execution": {
          "iopub.status.busy": "2023-09-18T10:13:52.178095Z",
          "iopub.execute_input": "2023-09-18T10:13:52.178584Z",
          "iopub.status.idle": "2023-09-18T10:13:52.286297Z",
          "shell.execute_reply.started": "2023-09-18T10:13:52.178546Z",
          "shell.execute_reply": "2023-09-18T10:13:52.285251Z"
        },
        "trusted": true,
        "id": "GhJAZ7k05kVb"
      },
      "execution_count": null,
      "outputs": []
    },
    {
      "cell_type": "markdown",
      "source": [
        "### Data visualization"
      ],
      "metadata": {
        "id": "ruUlmoAW5kVc"
      }
    },
    {
      "cell_type": "code",
      "source": [
        "\n",
        "plt.hist(data['Sentiment'], bins=20, alpha=0.5, color='b', label='Sentiment')\n",
        "plt.xlabel('Sentiment Score')\n",
        "plt.ylabel('Frequency')\n",
        "plt.title('Distribution of Sentiment Scores')\n",
        "plt.legend(loc='best')\n",
        "plt.show()\n"
      ],
      "metadata": {
        "execution": {
          "iopub.status.busy": "2023-09-18T10:13:59.63014Z",
          "iopub.execute_input": "2023-09-18T10:13:59.630643Z",
          "iopub.status.idle": "2023-09-18T10:14:00.061156Z",
          "shell.execute_reply.started": "2023-09-18T10:13:59.630603Z",
          "shell.execute_reply": "2023-09-18T10:14:00.059815Z"
        },
        "trusted": true,
        "id": "gp37uApV5kVc",
        "outputId": "00f7b5e2-69eb-47c2-8ff7-b686a6e6db9c",
        "colab": {
          "base_uri": "https://localhost:8080/"
        }
      },
      "execution_count": null,
      "outputs": [
        {
          "output_type": "display_data",
          "data": {
            "text/plain": [
              "<Figure size 640x480 with 1 Axes>"
            ],
            "image/png": "[encoded data removed]"
          },
          "metadata": {}
        }
      ]
    },
    {
      "cell_type": "code",
      "source": [
        "\n",
        "def characterize_sentiment(score):\n",
        "    if score > 0.05:\n",
        "        return 'Positive'\n",
        "    elif score < -0.05:\n",
        "        return 'Negative'\n",
        "    else:\n",
        "        return 'Neutral'\n",
        "data['Sentiment_Label'] = data['Sentiment'].apply(characterize_sentiment)\n"
      ],
      "metadata": {
        "execution": {
          "iopub.status.busy": "2023-09-18T10:14:04.757266Z",
          "iopub.execute_input": "2023-09-18T10:14:04.758301Z",
          "iopub.status.idle": "2023-09-18T10:14:04.7674Z",
          "shell.execute_reply.started": "2023-09-18T10:14:04.758231Z",
          "shell.execute_reply": "2023-09-18T10:14:04.766066Z"
        },
        "trusted": true,
        "id": "bsGgX8rd5kVd"
      },
      "execution_count": null,
      "outputs": []
    },
    {
      "cell_type": "code",
      "source": [
        "Sentiment_labels = data['Sentiment_Label']\n",
        "Sentiment_labels.value_counts()"
      ],
      "metadata": {
        "execution": {
          "iopub.status.busy": "2023-09-18T10:14:10.146613Z",
          "iopub.execute_input": "2023-09-18T10:14:10.147111Z",
          "iopub.status.idle": "2023-09-18T10:14:10.162099Z",
          "shell.execute_reply.started": "2023-09-18T10:14:10.147074Z",
          "shell.execute_reply": "2023-09-18T10:14:10.160532Z"
        },
        "trusted": true,
        "id": "zkGg58_95kVd",
        "outputId": "ea9d4c18-4d4b-4a07-c5cb-4b8dd0f43587",
        "colab": {
          "base_uri": "https://localhost:8080/"
        }
      },
      "execution_count": null,
      "outputs": [
        {
          "output_type": "execute_result",
          "data": {
            "text/plain": [
              "Sentiment_Label\n",
              "Neutral     1010\n",
              "Positive     422\n",
              "Negative      42\n",
              "Name: count, dtype: int64"
            ]
          },
          "metadata": {},
          "execution_count": 11
        }
      ]
    },
    {
      "cell_type": "code",
      "source": [
        "\n",
        "sentiment_counts = Sentiment_labels.value_counts()\n",
        "\n",
        "plt.figure(figsize=(8, 6))\n",
        "sns.barplot(x=sentiment_counts.index, y=sentiment_counts.values, palette=\"Set2\")\n",
        "\n",
        "plt.xlabel(\"Sentiment Label\")\n",
        "plt.ylabel(\"Count\")\n",
        "plt.title(\"Distribution of Sentiment Labels\")\n",
        "\n",
        "plt.show()"
      ],
      "metadata": {
        "execution": {
          "iopub.status.busy": "2023-09-18T10:14:14.368652Z",
          "iopub.execute_input": "2023-09-18T10:14:14.369389Z",
          "iopub.status.idle": "2023-09-18T10:14:14.609057Z",
          "shell.execute_reply.started": "2023-09-18T10:14:14.369355Z",
          "shell.execute_reply": "2023-09-18T10:14:14.608145Z"
        },
        "trusted": true,
        "id": "eIfxQXlC5kVe",
        "outputId": "3dd1ba0b-4236-4814-c050-eddfb2a8920a",
        "colab": {
          "base_uri": "https://localhost:8080/"
        }
      },
      "execution_count": null,
      "outputs": [
        {
          "output_type": "stream",
          "name": "stderr",
          "text": [
            "<ipython-input-12-ff4dd15c5b87>:4: FutureWarning: \n",
            "\n",
            "Passing `palette` without assigning `hue` is deprecated and will be removed in v0.14.0. Assign the `x` variable to `hue` and set `legend=False` for the same effect.\n",
            "\n",
            "  sns.barplot(x=sentiment_counts.index, y=sentiment_counts.values, palette=\"Set2\")\n"
          ]
        },
        {
          "output_type": "display_data",
          "data": {
            "text/plain": [
              "<Figure size 800x600 with 1 Axes>"
            ],
            "image/png": "[encoded data removed]"
          },
          "metadata": {}
        }
      ]
    },
    {
      "cell_type": "code",
      "source": [
        "data2 = data[['latestComments/0/text','Sentiment_Label']]\n",
        "data2.head(30)"
      ],
      "metadata": {
        "execution": {
          "iopub.status.busy": "2023-09-18T10:18:01.234671Z",
          "iopub.execute_input": "2023-09-18T10:18:01.235763Z",
          "iopub.status.idle": "2023-09-18T10:18:01.256838Z",
          "shell.execute_reply.started": "2023-09-18T10:18:01.235721Z",
          "shell.execute_reply": "2023-09-18T10:18:01.255662Z"
        },
        "trusted": true,
        "id": "BAV02U2p5kVf",
        "outputId": "81062346-ce66-4fd1-a42c-c18af0ca2ee9",
        "colab": {
          "base_uri": "https://localhost:8080/"
        }
      },
      "execution_count": null,
      "outputs": [
        {
          "output_type": "execute_result",
          "data": {
            "text/plain": [
              "                                latestComments/0/text Sentiment_Label\n",
              "0                                                   .         Neutral\n",
              "1                        ❤️❤️❤️❤️❤️ أنا بحب مرسيدس ❤️         Neutral\n",
              "2                                                umma         Neutral\n",
              "3                                               price         Neutral\n",
              "4                                  ❤️❤️❤️❤️❤️❤️❤️❤️❤️         Neutral\n",
              "5                                                  ❤️         Neutral\n",
              "6                       navratri yaad nhi kya ... ? ?         Neutral\n",
              "7                                          koenigsegg         Neutral\n",
              "9        mere paas isse acha model hai aur mehngi bhi         Neutral\n",
              "10                                           gift 1 2        Positive\n",
              "13                                           ❤️❤️❤️❤️         Neutral\n",
              "14                                               big+         Neutral\n",
              "15                                climate activists ?         Neutral\n",
              "18                                           ❤️❤️❤️❤️         Neutral\n",
              "19                                                wow        Positive\n",
              "20                               something missing ad        Negative\n",
              "21                                               ❤️❤️         Neutral\n",
              "23  failure mercedes “ mercedes app ” …i got fed r...        Negative\n",
              "24                                                 ✔️         Neutral\n",
              "26                                          beautiful        Positive\n",
              "28  pls support pro golf n india .. rather glorify...        Positive\n",
              "29  free offers carzzyypremium ( carzzyypremium ) ...        Positive\n",
              "32                                               goat         Neutral\n",
              "33              kumar pradeep - topic youtube channel         Neutral\n",
              "34                                                 ❤❤         Neutral\n",
              "35                                                bmw         Neutral\n",
              "36  mercedes benz road track : . mahindra road tra...         Neutral\n",
              "37           guys sure ’ right audience targeted ad ?        Positive\n",
              "38  لله نفحات رَحمةٍ تُصيبُ المُكثِرينَ ‏مِنَ الصل...         Neutral\n",
              "39                                          gojo logo         Neutral"
            ],
            "text/html": [
              "\n",
              "  <div id=\"df-8ffae5e3-9573-4e64-8a72-6f477af4f002\" class=\"colab-df-container\">\n",
              "    <div>\n",
              "<style scoped>\n",
              "    .dataframe tbody tr th:only-of-type {\n",
              "        vertical-align: middle;\n",
              "    }\n",
              "\n",
              "    .dataframe tbody tr th {\n",
              "        vertical-align: top;\n",
              "    }\n",
              "\n",
              "    .dataframe thead th {\n",
              "        text-align: right;\n",
              "    }\n",
              "</style>\n",
              "<table border=\"1\" class=\"dataframe\">\n",
              "  <thead>\n",
              "    <tr style=\"text-align: right;\">\n",
              "      <th></th>\n",
              "      <th>latestComments/0/text</th>\n",
              "      <th>Sentiment_Label</th>\n",
              "    </tr>\n",
              "  </thead>\n",
              "  <tbody>\n",
              "    <tr>\n",
              "      <th>0</th>\n",
              "      <td>.</td>\n",
              "      <td>Neutral</td>\n",
              "    </tr>\n",
              "    <tr>\n",
              "      <th>1</th>\n",
              "      <td>❤️❤️❤️❤️❤️ أنا بحب مرسيدس ❤️</td>\n",
              "      <td>Neutral</td>\n",
              "    </tr>\n",
              "    <tr>\n",
              "      <th>2</th>\n",
              "      <td>umma</td>\n",
              "      <td>Neutral</td>\n",
              "    </tr>\n",
              "    <tr>\n",
              "      <th>3</th>\n",
              "      <td>price</td>\n",
              "      <td>Neutral</td>\n",
              "    </tr>\n",
              "    <tr>\n",
              "      <th>4</th>\n",
              "      <td>❤️❤️❤️❤️❤️❤️❤️❤️❤️</td>\n",
              "      <td>Neutral</td>\n",
              "    </tr>\n",
              "    <tr>\n",
              "      <th>5</th>\n",
              "      <td>❤️</td>\n",
              "      <td>Neutral</td>\n",
              "    </tr>\n",
              "    <tr>\n",
              "      <th>6</th>\n",
              "      <td>navratri yaad nhi kya ... ? ?</td>\n",
              "      <td>Neutral</td>\n",
              "    </tr>\n",
              "    <tr>\n",
              "      <th>7</th>\n",
              "      <td>koenigsegg</td>\n",
              "      <td>Neutral</td>\n",
              "    </tr>\n",
              "    <tr>\n",
              "      <th>9</th>\n",
              "      <td>mere paas isse acha model hai aur mehngi bhi</td>\n",
              "      <td>Neutral</td>\n",
              "    </tr>\n",
              "    <tr>\n",
              "      <th>10</th>\n",
              "      <td>gift 1 2</td>\n",
              "      <td>Positive</td>\n",
              "    </tr>\n",
              "    <tr>\n",
              "      <th>13</th>\n",
              "      <td>❤️❤️❤️❤️</td>\n",
              "      <td>Neutral</td>\n",
              "    </tr>\n",
              "    <tr>\n",
              "      <th>14</th>\n",
              "      <td>big+</td>\n",
              "      <td>Neutral</td>\n",
              "    </tr>\n",
              "    <tr>\n",
              "      <th>15</th>\n",
              "      <td>climate activists ?</td>\n",
              "      <td>Neutral</td>\n",
              "    </tr>\n",
              "    <tr>\n",
              "      <th>18</th>\n",
              "      <td>❤️❤️❤️❤️</td>\n",
              "      <td>Neutral</td>\n",
              "    </tr>\n",
              "    <tr>\n",
              "      <th>19</th>\n",
              "      <td>wow</td>\n",
              "      <td>Positive</td>\n",
              "    </tr>\n",
              "    <tr>\n",
              "      <th>20</th>\n",
              "      <td>something missing ad</td>\n",
              "      <td>Negative</td>\n",
              "    </tr>\n",
              "    <tr>\n",
              "      <th>21</th>\n",
              "      <td>❤️❤️</td>\n",
              "      <td>Neutral</td>\n",
              "    </tr>\n",
              "    <tr>\n",
              "      <th>23</th>\n",
              "      <td>failure mercedes “ mercedes app ” …i got fed r...</td>\n",
              "      <td>Negative</td>\n",
              "    </tr>\n",
              "    <tr>\n",
              "      <th>24</th>\n",
              "      <td>✔️</td>\n",
              "      <td>Neutral</td>\n",
              "    </tr>\n",
              "    <tr>\n",
              "      <th>26</th>\n",
              "      <td>beautiful</td>\n",
              "      <td>Positive</td>\n",
              "    </tr>\n",
              "    <tr>\n",
              "      <th>28</th>\n",
              "      <td>pls support pro golf n india .. rather glorify...</td>\n",
              "      <td>Positive</td>\n",
              "    </tr>\n",
              "    <tr>\n",
              "      <th>29</th>\n",
              "      <td>free offers carzzyypremium ( carzzyypremium ) ...</td>\n",
              "      <td>Positive</td>\n",
              "    </tr>\n",
              "    <tr>\n",
              "      <th>32</th>\n",
              "      <td>goat</td>\n",
              "      <td>Neutral</td>\n",
              "    </tr>\n",
              "    <tr>\n",
              "      <th>33</th>\n",
              "      <td>kumar pradeep - topic youtube channel</td>\n",
              "      <td>Neutral</td>\n",
              "    </tr>\n",
              "    <tr>\n",
              "      <th>34</th>\n",
              "      <td>❤❤</td>\n",
              "      <td>Neutral</td>\n",
              "    </tr>\n",
              "    <tr>\n",
              "      <th>35</th>\n",
              "      <td>bmw</td>\n",
              "      <td>Neutral</td>\n",
              "    </tr>\n",
              "    <tr>\n",
              "      <th>36</th>\n",
              "      <td>mercedes benz road track : . mahindra road tra...</td>\n",
              "      <td>Neutral</td>\n",
              "    </tr>\n",
              "    <tr>\n",
              "      <th>37</th>\n",
              "      <td>guys sure ’ right audience targeted ad ?</td>\n",
              "      <td>Positive</td>\n",
              "    </tr>\n",
              "    <tr>\n",
              "      <th>38</th>\n",
              "      <td>لله نفحات رَحمةٍ تُصيبُ المُكثِرينَ ‏مِنَ الصل...</td>\n",
              "      <td>Neutral</td>\n",
              "    </tr>\n",
              "    <tr>\n",
              "      <th>39</th>\n",
              "      <td>gojo logo</td>\n",
              "      <td>Neutral</td>\n",
              "    </tr>\n",
              "  </tbody>\n",
              "</table>\n",
              "</div>\n",
              "    <div class=\"colab-df-buttons\">\n",
              "\n",
              "  <div class=\"colab-df-container\">\n",
              "    <button class=\"colab-df-convert\" onclick=\"convertToInteractive('df-8ffae5e3-9573-4e64-8a72-6f477af4f002')\"\n",
              "            title=\"Convert this dataframe to an interactive table.\"\n",
              "            style=\"display:none;\">\n",
              "\n",
              "  <svg xmlns=\"http://www.w3.org/2000/svg\" height=\"24px\" viewBox=\"0 -960 960 960\">\n",
              "    <path d=\"M120-120v-720h720v720H120Zm60-500h600v-160H180v160Zm220 220h160v-160H400v160Zm0 220h160v-160H400v160ZM180-400h160v-160H180v160Zm440 0h160v-160H620v160ZM180-180h160v-160H180v160Zm440 0h160v-160H620v160Z\"/>\n",
              "  </svg>\n",
              "    </button>\n",
              "\n",
              "  <style>\n",
              "    .colab-df-container {\n",
              "      display:flex;\n",
              "      gap: 12px;\n",
              "    }\n",
              "\n",
              "    .colab-df-convert {\n",
              "      background-color: #E8F0FE;\n",
              "      border: none;\n",
              "      border-radius: 50%;\n",
              "      cursor: pointer;\n",
              "      display: none;\n",
              "      fill: #1967D2;\n",
              "      height: 32px;\n",
              "      padding: 0 0 0 0;\n",
              "      width: 32px;\n",
              "    }\n",
              "\n",
              "    .colab-df-convert:hover {\n",
              "      background-color: #E2EBFA;\n",
              "      box-shadow: 0px 1px 2px rgba(60, 64, 67, 0.3), 0px 1px 3px 1px rgba(60, 64, 67, 0.15);\n",
              "      fill: #174EA6;\n",
              "    }\n",
              "\n",
              "    .colab-df-buttons div {\n",
              "      margin-bottom: 4px;\n",
              "    }\n",
              "\n",
              "    [theme=dark] .colab-df-convert {\n",
              "      background-color: #3B4455;\n",
              "      fill: #D2E3FC;\n",
              "    }\n",
              "\n",
              "    [theme=dark] .colab-df-convert:hover {\n",
              "      background-color: #434B5C;\n",
              "      box-shadow: 0px 1px 3px 1px rgba(0, 0, 0, 0.15);\n",
              "      filter: drop-shadow(0px 1px 2px rgba(0, 0, 0, 0.3));\n",
              "      fill: #FFFFFF;\n",
              "    }\n",
              "  </style>\n",
              "\n",
              "    <script>\n",
              "      const buttonEl =\n",
              "        document.querySelector('#df-8ffae5e3-9573-4e64-8a72-6f477af4f002 button.colab-df-convert');\n",
              "      buttonEl.style.display =\n",
              "        google.colab.kernel.accessAllowed ? 'block' : 'none';\n",
              "\n",
              "      async function convertToInteractive(key) {\n",
              "        const element = document.querySelector('#df-8ffae5e3-9573-4e64-8a72-6f477af4f002');\n",
              "        const dataTable =\n",
              "          await google.colab.kernel.invokeFunction('convertToInteractive',\n",
              "                                                    [key], {});\n",
              "        if (!dataTable) return;\n",
              "\n",
              "        const docLinkHtml = 'Like what you see? Visit the ' +\n",
              "          '<a target=\"_blank\" href=https://colab.research.google.com/notebooks/data_table.ipynb>data table notebook</a>'\n",
              "          + ' to learn more about interactive tables.';\n",
              "        element.innerHTML = '';\n",
              "        dataTable['output_type'] = 'display_data';\n",
              "        await google.colab.output.renderOutput(dataTable, element);\n",
              "        const docLink = document.createElement('div');\n",
              "        docLink.innerHTML = docLinkHtml;\n",
              "        element.appendChild(docLink);\n",
              "      }\n",
              "    </script>\n",
              "  </div>\n",
              "\n",
              "\n",
              "<div id=\"df-1c2f0e2f-1c8d-4dca-91a8-74cdfeef1138\">\n",
              "  <button class=\"colab-df-quickchart\" onclick=\"quickchart('df-1c2f0e2f-1c8d-4dca-91a8-74cdfeef1138')\"\n",
              "            title=\"Suggest charts\"\n",
              "            style=\"display:none;\">\n",
              "\n",
              "<svg xmlns=\"http://www.w3.org/2000/svg\" height=\"24px\"viewBox=\"0 0 24 24\"\n",
              "     width=\"24px\">\n",
              "    <g>\n",
              "        <path d=\"M19 3H5c-1.1 0-2 .9-2 2v14c0 1.1.9 2 2 2h14c1.1 0 2-.9 2-2V5c0-1.1-.9-2-2-2zM9 17H7v-7h2v7zm4 0h-2V7h2v10zm4 0h-2v-4h2v4z\"/>\n",
              "    </g>\n",
              "</svg>\n",
              "  </button>\n",
              "\n",
              "<style>\n",
              "  .colab-df-quickchart {\n",
              "      --bg-color: #E8F0FE;\n",
              "      --fill-color: #1967D2;\n",
              "      --hover-bg-color: #E2EBFA;\n",
              "      --hover-fill-color: #174EA6;\n",
              "      --disabled-fill-color: #AAA;\n",
              "      --disabled-bg-color: #DDD;\n",
              "  }\n",
              "\n",
              "  [theme=dark] .colab-df-quickchart {\n",
              "      --bg-color: #3B4455;\n",
              "      --fill-color: #D2E3FC;\n",
              "      --hover-bg-color: #434B5C;\n",
              "      --hover-fill-color: #FFFFFF;\n",
              "      --disabled-bg-color: #3B4455;\n",
              "      --disabled-fill-color: #666;\n",
              "  }\n",
              "\n",
              "  .colab-df-quickchart {\n",
              "    background-color: var(--bg-color);\n",
              "    border: none;\n",
              "    border-radius: 50%;\n",
              "    cursor: pointer;\n",
              "    display: none;\n",
              "    fill: var(--fill-color);\n",
              "    height: 32px;\n",
              "    padding: 0;\n",
              "    width: 32px;\n",
              "  }\n",
              "\n",
              "  .colab-df-quickchart:hover {\n",
              "    background-color: var(--hover-bg-color);\n",
              "    box-shadow: 0 1px 2px rgba(60, 64, 67, 0.3), 0 1px 3px 1px rgba(60, 64, 67, 0.15);\n",
              "    fill: var(--button-hover-fill-color);\n",
              "  }\n",
              "\n",
              "  .colab-df-quickchart-complete:disabled,\n",
              "  .colab-df-quickchart-complete:disabled:hover {\n",
              "    background-color: var(--disabled-bg-color);\n",
              "    fill: var(--disabled-fill-color);\n",
              "    box-shadow: none;\n",
              "  }\n",
              "\n",
              "  .colab-df-spinner {\n",
              "    border: 2px solid var(--fill-color);\n",
              "    border-color: transparent;\n",
              "    border-bottom-color: var(--fill-color);\n",
              "    animation:\n",
              "      spin 1s steps(1) infinite;\n",
              "  }\n",
              "\n",
              "  @keyframes spin {\n",
              "    0% {\n",
              "      border-color: transparent;\n",
              "      border-bottom-color: var(--fill-color);\n",
              "      border-left-color: var(--fill-color);\n",
              "    }\n",
              "    20% {\n",
              "      border-color: transparent;\n",
              "      border-left-color: var(--fill-color);\n",
              "      border-top-color: var(--fill-color);\n",
              "    }\n",
              "    30% {\n",
              "      border-color: transparent;\n",
              "      border-left-color: var(--fill-color);\n",
              "      border-top-color: var(--fill-color);\n",
              "      border-right-color: var(--fill-color);\n",
              "    }\n",
              "    40% {\n",
              "      border-color: transparent;\n",
              "      border-right-color: var(--fill-color);\n",
              "      border-top-color: var(--fill-color);\n",
              "    }\n",
              "    60% {\n",
              "      border-color: transparent;\n",
              "      border-right-color: var(--fill-color);\n",
              "    }\n",
              "    80% {\n",
              "      border-color: transparent;\n",
              "      border-right-color: var(--fill-color);\n",
              "      border-bottom-color: var(--fill-color);\n",
              "    }\n",
              "    90% {\n",
              "      border-color: transparent;\n",
              "      border-bottom-color: var(--fill-color);\n",
              "    }\n",
              "  }\n",
              "</style>\n",
              "\n",
              "  <script>\n",
              "    async function quickchart(key) {\n",
              "      const quickchartButtonEl =\n",
              "        document.querySelector('#' + key + ' button');\n",
              "      quickchartButtonEl.disabled = true;  // To prevent multiple clicks.\n",
              "      quickchartButtonEl.classList.add('colab-df-spinner');\n",
              "      try {\n",
              "        const charts = await google.colab.kernel.invokeFunction(\n",
              "            'suggestCharts', [key], {});\n",
              "      } catch (error) {\n",
              "        console.error('Error during call to suggestCharts:', error);\n",
              "      }\n",
              "      quickchartButtonEl.classList.remove('colab-df-spinner');\n",
              "      quickchartButtonEl.classList.add('colab-df-quickchart-complete');\n",
              "    }\n",
              "    (() => {\n",
              "      let quickchartButtonEl =\n",
              "        document.querySelector('#df-1c2f0e2f-1c8d-4dca-91a8-74cdfeef1138 button');\n",
              "      quickchartButtonEl.style.display =\n",
              "        google.colab.kernel.accessAllowed ? 'block' : 'none';\n",
              "    })();\n",
              "  </script>\n",
              "</div>\n",
              "    </div>\n",
              "  </div>\n"
            ],
            "application/vnd.google.colaboratory.intrinsic+json": {
              "type": "dataframe",
              "variable_name": "data2",
              "summary": "{\n  \"name\": \"data2\",\n  \"rows\": 1474,\n  \"fields\": [\n    {\n      \"column\": \"latestComments/0/text\",\n      \"properties\": {\n        \"dtype\": \"string\",\n        \"num_unique_values\": 988,\n        \"samples\": [\n          \"red blue white orange\",\n          \"nice mercedes\",\n          \"\\u0938\\u092e\\u0938\\u094d\\u092f\\u093e \\u2721\\ufe0f\\u091b\\u0941\\u092a\\u093e\\u0928\\u0947 \\u0938\\u0947 \\u0928\\u0939\\u0940\\u0902\\ufe0f \\u092c\\u0924\\u093e\\u0928\\u0947 \\u0938\\u0947 \\u0926\\u0942\\u0930 \\u0939\\u094b\\u0902\\u0917\\u0940\\u0964 . .- +1-9927446536 \\ufe0f \\u0939\\u0930 \\u0938\\u092e\\u0938\\u094d\\u092f\\u093e \\u0915\\u093e \\u0938\\u092e\\u093e\\u0927\\u093e\\u0928 24 \\u0918\\u0902\\u091f\\u0947 \\u092e\\u0947\\u0902 call & whatsapp \\u260e\\ufe0f : 9927446536 1 ) \\u092a\\u093e\\u0930\\u093f\\u0935\\u093e\\u0930\\u093f\\u0915 \\u0938\\u092e\\u0938\\u094d\\u092f\\u093e ( 2 ) \\u0938\\u094c\\u0924\\u0928 \\u0938\\u0947 \\u091b\\u0941\\u091f\\u0915\\u093e\\u0930\\u093e . ( 3 ) \\u092a\\u094d\\u092f\\u093e\\u0930 \\u092e\\u0947\\u0902 \\u0927\\u094b\\u0916\\u093e ( 4 ) , \\u092c\\u093f\\u095b\\u0928\\u0947\\u0938 \\u092e\\u0947\\u0902 \\u0938\\u092e\\u0938\\u094d\\u092f\\u093e ( 5 ) \\u092a\\u0924\\u093f \\u092a\\u0924\\u094d\\u0928\\u0940 \\u092e\\u0947\\u0902 \\u0905\\u0928\\u092c\\u0928 ( 6 ) \\u0935\\u093f\\u0926\\u0947\\u0936 \\u0938\\u092e\\u0938\\u094d\\u092f\\u093e \\u0915\\u093e \\u0938\\u092e\\u093e\\u0927\\u093e\\u0928 \\u092d\\u0940 , \\u0938\\u092d\\u0940 \\u0924\\u0930\\u0939 \\u0938\\u092e\\u0938\\u094d\\u092f\\u093e\\u0913 \\u0915\\u093e \\u0938\\u092e\\u093e\\u0927\\u093e\\u0928 \\u0939\\u0948 -- \\u0938\\u092e\\u0938\\u094d\\u092f\\u093e\\u0913\\u0902 \\u0928\\u0947 \\u0918\\u0947\\u0930 \\u0930\\u0916\\u093e \\u0939\\u0948 , \\u0915\\u094b\\u0908 \\u0930\\u093e\\u0938\\u094d\\u0924\\u093e \\u0928\\u0939\\u0940\\u0902 \\u0938\\u0942\\u091d \\u0930\\u0939\\u093e , \\u0939\\u0930 \\u0924\\u0930\\u092b \\u0928\\u093f\\u0930\\u093e\\u0936\\u093e \\u0915\\u093e \\u0935\\u093e\\u0924\\u093e\\u0935\\u0930\\u0923 \\u0939\\u0948 , \\u0924\\u094b \\u0918\\u092c\\u0930\\u093e\\u090f\\u0902 \\u0928\\u0939\\u0940\\u0902 , \\u092e\\u0941\\u091d\\u0947 \\u0905\\u092a\\u0928\\u0940 \\u0938\\u092e\\u0938\\u094d\\u092f\\u093e \\u092c\\u0924\\u093e\\u090f\\u0902.\\u090f\\u0915 \\u092c\\u093e\\u0930 \\u095e\\u094b\\u0928 \\u091c\\u0930\\u0942\\u0930 \\u0915\\u0930\\u0947 2 ) ( +919927446536\"\n        ],\n        \"semantic_type\": \"\",\n        \"description\": \"\"\n      }\n    },\n    {\n      \"column\": \"Sentiment_Label\",\n      \"properties\": {\n        \"dtype\": \"category\",\n        \"num_unique_values\": 3,\n        \"samples\": [\n          \"Neutral\",\n          \"Positive\",\n          \"Negative\"\n        ],\n        \"semantic_type\": \"\",\n        \"description\": \"\"\n      }\n    }\n  ]\n}"
            }
          },
          "metadata": {},
          "execution_count": 13
        }
      ]
    },
    {
      "cell_type": "markdown",
      "source": [],
      "metadata": {
        "id": "T6NmN2zr5kVf"
      }
    }
  ]
}